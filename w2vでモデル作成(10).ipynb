{
 "cells": [
  {
   "cell_type": "code",
   "execution_count": 1,
   "id": "5e3dc510",
   "metadata": {},
   "outputs": [],
   "source": [
    "import pandas as pd\n",
    "import hashlib\n",
    "import os\n",
    "import time\n",
    "from tqdm import tqdm\n",
    "from gensim.models import Word2Vec\n",
    "import glob\n",
    "import line\n",
    "import gensim\n",
    "import sys"
   ]
  },
  {
   "cell_type": "code",
   "execution_count": 2,
   "id": "48a79849",
   "metadata": {},
   "outputs": [
    {
     "data": {
      "text/plain": [
       "<Response [200]>"
      ]
     },
     "execution_count": 2,
     "metadata": {},
     "output_type": "execute_result"
    }
   ],
   "source": [
    "model = Word2Vec(vector_size=200,\n",
    "                 sg=0,\n",
    "                 hs=0,\n",
    "                 sample=1e-4,\n",
    "                 window=4,\n",
    "                 min_count=5,\n",
    "                 seed=1,\n",
    "                 workers=1,\n",
    "                 negative=5)\n",
    "model.build_vocab(corpus_file='text/text_all_10.txt')\n",
    "model.train(corpus_file='text/text_wiki.txt', total_examples=model.corpus_count, total_words=model.corpus_total_words, epochs=5)\n",
    "model.train(corpus_file='text/text_f10_10.txt', total_examples=model.corpus_count, total_words=model.corpus_total_words, epochs=5)\n",
    "model.callbacks = ()\n",
    "model.save('models/model_10_200^4.bin')\n",
    "line.line(\"200年の4騎士\")"
   ]
  },
  {
   "cell_type": "code",
   "execution_count": 3,
   "id": "2c705944",
   "metadata": {},
   "outputs": [],
   "source": [
    "del model"
   ]
  }
 ],
 "metadata": {
  "kernelspec": {
   "display_name": "Python 3 (ipykernel)",
   "language": "python",
   "name": "python3"
  },
  "language_info": {
   "codemirror_mode": {
    "name": "ipython",
    "version": 3
   },
   "file_extension": ".py",
   "mimetype": "text/x-python",
   "name": "python",
   "nbconvert_exporter": "python",
   "pygments_lexer": "ipython3",
   "version": "3.9.12"
  }
 },
 "nbformat": 4,
 "nbformat_minor": 5
}
