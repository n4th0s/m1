{
 "cells": [
  {
   "cell_type": "code",
   "execution_count": 1,
   "id": "44e4b782",
   "metadata": {},
   "outputs": [],
   "source": [
    "import fasttext"
   ]
  },
  {
   "cell_type": "code",
   "execution_count": 4,
   "id": "8fa9876e",
   "metadata": {},
   "outputs": [],
   "source": [
    "model = fasttext.train_unsupervised(\"text/text_f10_10.txt\")"
   ]
  },
  {
   "cell_type": "code",
   "execution_count": 5,
   "id": "b91d6fbc",
   "metadata": {},
   "outputs": [],
   "source": [
    "model.save_model(\"models/fasttext_f10_10.bin\")"
   ]
  },
  {
   "cell_type": "code",
   "execution_count": 6,
   "id": "3dc64fef",
   "metadata": {},
   "outputs": [],
   "source": [
    "del model"
   ]
  },
  {
   "cell_type": "code",
   "execution_count": null,
   "id": "db9193a6",
   "metadata": {},
   "outputs": [],
   "source": []
  }
 ],
 "metadata": {
  "kernelspec": {
   "display_name": "Python 3 (ipykernel)",
   "language": "python",
   "name": "python3"
  },
  "language_info": {
   "codemirror_mode": {
    "name": "ipython",
    "version": 3
   },
   "file_extension": ".py",
   "mimetype": "text/x-python",
   "name": "python",
   "nbconvert_exporter": "python",
   "pygments_lexer": "ipython3",
   "version": "3.9.12"
  }
 },
 "nbformat": 4,
 "nbformat_minor": 5
}
