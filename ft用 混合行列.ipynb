{
 "cells": [
  {
   "cell_type": "code",
   "execution_count": 1,
   "id": "dfaec2f6",
   "metadata": {},
   "outputs": [],
   "source": [
    "import pandas as pd\n",
    "from math import ceil\n",
    "from sklearn.metrics import confusion_matrix\n",
    "from sklearn.metrics import accuracy_score\n",
    "from sklearn.metrics import precision_score\n",
    "from sklearn.metrics import recall_score\n",
    "from sklearn.metrics import f1_score"
   ]
  },
  {
   "cell_type": "code",
   "execution_count": 204,
   "id": "9a223155",
   "metadata": {},
   "outputs": [],
   "source": [
    "i = \"socl_full-holdings_20220722\"\n",
    "kotae = pd.read_csv(\"答え/\" + i + \".csv\", header=2)"
   ]
  },
  {
   "cell_type": "code",
   "execution_count": 225,
   "id": "f8422e61",
   "metadata": {},
   "outputs": [],
   "source": [
    "asd = \"social-media_fasttext\"\n",
    "result = pd.read_csv(\"fasttext_result/\" + asd + \"_sum.csv\")"
   ]
  },
  {
   "cell_type": "code",
   "execution_count": 226,
   "id": "97571461",
   "metadata": {},
   "outputs": [],
   "source": [
    "result[\"Answer\"] = 0\n",
    "result[\"Output\"] = 0\n",
    "result = result.rename(columns={result.columns[0] : 'Rick', result.columns[1] : 'Score'})\n",
    "result[\"Ticker\"] = result[\"Rick\"].str.split('.', expand=True).iloc[:, 0]\n",
    "result.iloc[0:len(kotae[\"Ticker\"].dropna()), 3] = 1"
   ]
  },
  {
   "cell_type": "code",
   "execution_count": 227,
   "id": "d47c7aa6",
   "metadata": {},
   "outputs": [],
   "source": [
    "for i in list(kotae[\"Ticker\"].dropna()):\n",
    "    result.loc[result[\"Ticker\"] == i, 'Answer'] = 1"
   ]
  },
  {
   "cell_type": "code",
   "execution_count": 228,
   "id": "dc37fc57",
   "metadata": {
    "scrolled": true
   },
   "outputs": [
    {
     "name": "stdout",
     "output_type": "stream",
     "text": [
      "[[3899   42]\n",
      " [  11    2]]\n",
      "正解率 0.9865958523014668\n",
      "適合率: 0.045454545454545456\n",
      "再現率: 0.15384615384615385\n",
      "F1: 0.07017543859649122\n"
     ]
    }
   ],
   "source": [
    "# # 実際が正かつ予測が正(tp)\n",
    "# tp = result.query('Answer == 1 and Output == 1')\n",
    "# print('tp:', len(tp))\n",
    "# # 実際が正かつ予測が負(fn)\n",
    "# fn = result.query('Answer == 1 and Output == 0')\n",
    "# print('fn:', len(fn))\n",
    "# # 実際が負かつ予測が正(fp)\n",
    "# fp = result.query('Answer == 0 and Output == 1')\n",
    "# print('fp:', len(fp))\n",
    "# # 実際が負かつ予測が負(fn)\n",
    "# fn = result.query('Answer == 0 and Output == 0')\n",
    "# print('fn:', len(fn))\n",
    "cm = confusion_matrix(result[\"Answer\"], result[\"Output\"])\n",
    "print(cm)\n",
    "print('正解率', accuracy_score(result[\"Answer\"], result[\"Output\"]))\n",
    "print('適合率:', precision_score(result[\"Answer\"], result[\"Output\"]))\n",
    "print('再現率:', recall_score(result[\"Answer\"], result[\"Output\"]))\n",
    "print('F1:', f1_score(result[\"Answer\"], result[\"Output\"]))"
   ]
  },
  {
   "cell_type": "code",
   "execution_count": 229,
   "id": "f7d5fb97",
   "metadata": {},
   "outputs": [],
   "source": [
    "result.to_csv(\"fasttext_result/\" + asd + \"_sum.csv\")"
   ]
  },
  {
   "cell_type": "code",
   "execution_count": null,
   "id": "82d27fab",
   "metadata": {},
   "outputs": [],
   "source": []
  },
  {
   "cell_type": "code",
   "execution_count": 230,
   "id": "5c6ee711",
   "metadata": {
    "scrolled": true
   },
   "outputs": [],
   "source": [
    "k = len(result[result[\"Answer\"] == 1])"
   ]
  },
  {
   "cell_type": "code",
   "execution_count": 231,
   "id": "d972c031",
   "metadata": {},
   "outputs": [
    {
     "data": {
      "text/html": [
       "<div>\n",
       "<style scoped>\n",
       "    .dataframe tbody tr th:only-of-type {\n",
       "        vertical-align: middle;\n",
       "    }\n",
       "\n",
       "    .dataframe tbody tr th {\n",
       "        vertical-align: top;\n",
       "    }\n",
       "\n",
       "    .dataframe thead th {\n",
       "        text-align: right;\n",
       "    }\n",
       "</style>\n",
       "<table border=\"1\" class=\"dataframe\">\n",
       "  <thead>\n",
       "    <tr style=\"text-align: right;\">\n",
       "      <th></th>\n",
       "      <th>Rick</th>\n",
       "      <th>Score</th>\n",
       "      <th>Answer</th>\n",
       "      <th>Output</th>\n",
       "      <th>Ticker</th>\n",
       "    </tr>\n",
       "  </thead>\n",
       "  <tbody>\n",
       "    <tr>\n",
       "      <th>1</th>\n",
       "      <td>SPT.OQ</td>\n",
       "      <td>0.000636</td>\n",
       "      <td>1</td>\n",
       "      <td>1</td>\n",
       "      <td>SPT</td>\n",
       "    </tr>\n",
       "  </tbody>\n",
       "</table>\n",
       "</div>"
      ],
      "text/plain": [
       "     Rick     Score  Answer  Output Ticker\n",
       "1  SPT.OQ  0.000636       1       1    SPT"
      ]
     },
     "execution_count": 231,
     "metadata": {},
     "output_type": "execute_result"
    }
   ],
   "source": [
    "# top点\n",
    "result[result[\"Answer\"] == 1].head(1)"
   ]
  },
  {
   "cell_type": "code",
   "execution_count": 232,
   "id": "0f84a6b7",
   "metadata": {},
   "outputs": [
    {
     "data": {
      "text/html": [
       "<div>\n",
       "<style scoped>\n",
       "    .dataframe tbody tr th:only-of-type {\n",
       "        vertical-align: middle;\n",
       "    }\n",
       "\n",
       "    .dataframe tbody tr th {\n",
       "        vertical-align: top;\n",
       "    }\n",
       "\n",
       "    .dataframe thead th {\n",
       "        text-align: right;\n",
       "    }\n",
       "</style>\n",
       "<table border=\"1\" class=\"dataframe\">\n",
       "  <thead>\n",
       "    <tr style=\"text-align: right;\">\n",
       "      <th></th>\n",
       "      <th>Rick</th>\n",
       "      <th>Score</th>\n",
       "      <th>Answer</th>\n",
       "      <th>Output</th>\n",
       "      <th>Ticker</th>\n",
       "    </tr>\n",
       "  </thead>\n",
       "  <tbody>\n",
       "    <tr>\n",
       "      <th>395</th>\n",
       "      <td>PINS.N</td>\n",
       "      <td>0.000034</td>\n",
       "      <td>1</td>\n",
       "      <td>0</td>\n",
       "      <td>PINS</td>\n",
       "    </tr>\n",
       "  </tbody>\n",
       "</table>\n",
       "</div>"
      ],
      "text/plain": [
       "       Rick     Score  Answer  Output Ticker\n",
       "395  PINS.N  0.000034       1       0   PINS"
      ]
     },
     "execution_count": 232,
     "metadata": {},
     "output_type": "execute_result"
    }
   ],
   "source": [
    "# 50%点\n",
    "result[result[\"Answer\"] == 1].head(ceil(k * 1/2)).tail(1)"
   ]
  },
  {
   "cell_type": "code",
   "execution_count": 233,
   "id": "b06871e7",
   "metadata": {},
   "outputs": [
    {
     "data": {
      "text/html": [
       "<div>\n",
       "<style scoped>\n",
       "    .dataframe tbody tr th:only-of-type {\n",
       "        vertical-align: middle;\n",
       "    }\n",
       "\n",
       "    .dataframe tbody tr th {\n",
       "        vertical-align: top;\n",
       "    }\n",
       "\n",
       "    .dataframe thead th {\n",
       "        text-align: right;\n",
       "    }\n",
       "</style>\n",
       "<table border=\"1\" class=\"dataframe\">\n",
       "  <thead>\n",
       "    <tr style=\"text-align: right;\">\n",
       "      <th></th>\n",
       "      <th>Rick</th>\n",
       "      <th>Score</th>\n",
       "      <th>Answer</th>\n",
       "      <th>Output</th>\n",
       "      <th>Ticker</th>\n",
       "    </tr>\n",
       "  </thead>\n",
       "  <tbody>\n",
       "    <tr>\n",
       "      <th>822</th>\n",
       "      <td>GOOGL.OQ</td>\n",
       "      <td>0.000017</td>\n",
       "      <td>1</td>\n",
       "      <td>0</td>\n",
       "      <td>GOOGL</td>\n",
       "    </tr>\n",
       "  </tbody>\n",
       "</table>\n",
       "</div>"
      ],
      "text/plain": [
       "         Rick     Score  Answer  Output Ticker\n",
       "822  GOOGL.OQ  0.000017       1       0  GOOGL"
      ]
     },
     "execution_count": 233,
     "metadata": {},
     "output_type": "execute_result"
    }
   ],
   "source": [
    "# 80%\n",
    "result[result[\"Answer\"] == 1].head(ceil(k * 0.8)).tail(1)"
   ]
  },
  {
   "cell_type": "code",
   "execution_count": 234,
   "id": "ee343d57",
   "metadata": {},
   "outputs": [
    {
     "data": {
      "text/html": [
       "<div>\n",
       "<style scoped>\n",
       "    .dataframe tbody tr th:only-of-type {\n",
       "        vertical-align: middle;\n",
       "    }\n",
       "\n",
       "    .dataframe tbody tr th {\n",
       "        vertical-align: top;\n",
       "    }\n",
       "\n",
       "    .dataframe thead th {\n",
       "        text-align: right;\n",
       "    }\n",
       "</style>\n",
       "<table border=\"1\" class=\"dataframe\">\n",
       "  <thead>\n",
       "    <tr style=\"text-align: right;\">\n",
       "      <th></th>\n",
       "      <th>Rick</th>\n",
       "      <th>Score</th>\n",
       "      <th>Answer</th>\n",
       "      <th>Output</th>\n",
       "      <th>Ticker</th>\n",
       "    </tr>\n",
       "  </thead>\n",
       "  <tbody>\n",
       "    <tr>\n",
       "      <th>1129</th>\n",
       "      <td>ANGI.OQ</td>\n",
       "      <td>0.000011</td>\n",
       "      <td>1</td>\n",
       "      <td>0</td>\n",
       "      <td>ANGI</td>\n",
       "    </tr>\n",
       "  </tbody>\n",
       "</table>\n",
       "</div>"
      ],
      "text/plain": [
       "         Rick     Score  Answer  Output Ticker\n",
       "1129  ANGI.OQ  0.000011       1       0   ANGI"
      ]
     },
     "execution_count": 234,
     "metadata": {},
     "output_type": "execute_result"
    }
   ],
   "source": [
    "# 100%点\n",
    "result[result[\"Answer\"] == 1].head(ceil(k)).tail(1)"
   ]
  },
  {
   "cell_type": "code",
   "execution_count": null,
   "id": "8a4b65fa",
   "metadata": {},
   "outputs": [],
   "source": []
  },
  {
   "cell_type": "code",
   "execution_count": null,
   "id": "2b8cc6dd",
   "metadata": {},
   "outputs": [],
   "source": []
  }
 ],
 "metadata": {
  "kernelspec": {
   "display_name": "Python 3 (ipykernel)",
   "language": "python",
   "name": "python3"
  },
  "language_info": {
   "codemirror_mode": {
    "name": "ipython",
    "version": 3
   },
   "file_extension": ".py",
   "mimetype": "text/x-python",
   "name": "python",
   "nbconvert_exporter": "python",
   "pygments_lexer": "ipython3",
   "version": "3.9.12"
  }
 },
 "nbformat": 4,
 "nbformat_minor": 5
}
