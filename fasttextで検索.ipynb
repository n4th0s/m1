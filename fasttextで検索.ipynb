{
 "cells": [
  {
   "cell_type": "code",
   "execution_count": 1,
   "id": "cc74f771",
   "metadata": {},
   "outputs": [],
   "source": [
    "import gensim\n",
    "import srsql\n",
    "import pandas as pd\n",
    "from tqdm.auto import tqdm\n",
    "from statistics import harmonic_mean\n",
    "from scipy import stats"
   ]
  },
  {
   "cell_type": "code",
   "execution_count": 2,
   "id": "bf9b86e5",
   "metadata": {},
   "outputs": [],
   "source": [
    "import fasttext as ft"
   ]
  },
  {
   "cell_type": "code",
   "execution_count": 3,
   "id": "e7300469",
   "metadata": {},
   "outputs": [
    {
     "name": "stderr",
     "output_type": "stream",
     "text": [
      "Warning : `load_model` does not return WordVectorModel or SupervisedModel any more, but a `FastText` object which is very similar.\n"
     ]
    }
   ],
   "source": [
    "model = ft.load_model('models/fasttext_f10_10.bin')"
   ]
  },
  {
   "cell_type": "code",
   "execution_count": 62,
   "id": "16c5e630",
   "metadata": {},
   "outputs": [],
   "source": [
    "# EV\n",
    "# game & e-sports\n",
    "# medical device\n",
    "# edtech\n",
    "# cloud-computing\n",
    "# social-media\n",
    "# internet-of-things\n",
    "# fintech\n",
    "# clean-water\n",
    "pa_term = \"social-media\""
   ]
  },
  {
   "cell_type": "code",
   "execution_count": 63,
   "id": "5a226135",
   "metadata": {},
   "outputs": [],
   "source": [
    "word = model.get_nearest_neighbors(pa_term, 500)"
   ]
  },
  {
   "cell_type": "code",
   "execution_count": 64,
   "id": "b89c408e",
   "metadata": {},
   "outputs": [
    {
     "data": {
      "text/html": [
       "<div>\n",
       "<style scoped>\n",
       "    .dataframe tbody tr th:only-of-type {\n",
       "        vertical-align: middle;\n",
       "    }\n",
       "\n",
       "    .dataframe tbody tr th {\n",
       "        vertical-align: top;\n",
       "    }\n",
       "\n",
       "    .dataframe thead th {\n",
       "        text-align: right;\n",
       "    }\n",
       "</style>\n",
       "<table border=\"1\" class=\"dataframe\">\n",
       "  <thead>\n",
       "    <tr style=\"text-align: right;\">\n",
       "      <th></th>\n",
       "      <th>sim</th>\n",
       "      <th>word</th>\n",
       "    </tr>\n",
       "  </thead>\n",
       "  <tbody>\n",
       "    <tr>\n",
       "      <th>0</th>\n",
       "      <td>0.824547</td>\n",
       "      <td>political-media</td>\n",
       "    </tr>\n",
       "    <tr>\n",
       "      <th>1</th>\n",
       "      <td>0.797148</td>\n",
       "      <td>social-</td>\n",
       "    </tr>\n",
       "    <tr>\n",
       "      <th>2</th>\n",
       "      <td>0.789110</td>\n",
       "      <td>politico-media</td>\n",
       "    </tr>\n",
       "    <tr>\n",
       "      <th>3</th>\n",
       "      <td>0.779170</td>\n",
       "      <td>social-national</td>\n",
       "    </tr>\n",
       "    <tr>\n",
       "      <th>4</th>\n",
       "      <td>0.777701</td>\n",
       "      <td>social-based</td>\n",
       "    </tr>\n",
       "    <tr>\n",
       "      <th>...</th>\n",
       "      <td>...</td>\n",
       "      <td>...</td>\n",
       "    </tr>\n",
       "    <tr>\n",
       "      <th>495</th>\n",
       "      <td>0.599660</td>\n",
       "      <td>content-oriented</td>\n",
       "    </tr>\n",
       "    <tr>\n",
       "      <th>496</th>\n",
       "      <td>0.599635</td>\n",
       "      <td>political-party</td>\n",
       "    </tr>\n",
       "    <tr>\n",
       "      <th>497</th>\n",
       "      <td>0.599526</td>\n",
       "      <td>collectivism-individualism</td>\n",
       "    </tr>\n",
       "    <tr>\n",
       "      <th>498</th>\n",
       "      <td>0.599275</td>\n",
       "      <td>hypermedia</td>\n",
       "    </tr>\n",
       "    <tr>\n",
       "      <th>499</th>\n",
       "      <td>0.599271</td>\n",
       "      <td>mecklermedia</td>\n",
       "    </tr>\n",
       "  </tbody>\n",
       "</table>\n",
       "<p>500 rows × 2 columns</p>\n",
       "</div>"
      ],
      "text/plain": [
       "          sim                        word\n",
       "0    0.824547             political-media\n",
       "1    0.797148                     social-\n",
       "2    0.789110              politico-media\n",
       "3    0.779170             social-national\n",
       "4    0.777701                social-based\n",
       "..        ...                         ...\n",
       "495  0.599660            content-oriented\n",
       "496  0.599635             political-party\n",
       "497  0.599526  collectivism-individualism\n",
       "498  0.599275                  hypermedia\n",
       "499  0.599271                mecklermedia\n",
       "\n",
       "[500 rows x 2 columns]"
      ]
     },
     "execution_count": 64,
     "metadata": {},
     "output_type": "execute_result"
    }
   ],
   "source": [
    "df_mo = pd.DataFrame(word, columns=['sim', 'word'])\n",
    "df_mo"
   ]
  },
  {
   "cell_type": "code",
   "execution_count": 65,
   "id": "54ab2284",
   "metadata": {},
   "outputs": [],
   "source": [
    "df_mo.to_csv(\"fasttext_result/\" + pa_term + \"_fasttext_score.csv\", index=False)"
   ]
  },
  {
   "cell_type": "code",
   "execution_count": 66,
   "id": "44596330",
   "metadata": {},
   "outputs": [],
   "source": [
    "w_list = list(df_mo[\"word\"])"
   ]
  },
  {
   "cell_type": "code",
   "execution_count": 67,
   "id": "0dd8d131",
   "metadata": {},
   "outputs": [
    {
     "data": {
      "text/html": [
       "<div>\n",
       "<style scoped>\n",
       "    .dataframe tbody tr th:only-of-type {\n",
       "        vertical-align: middle;\n",
       "    }\n",
       "\n",
       "    .dataframe tbody tr th {\n",
       "        vertical-align: top;\n",
       "    }\n",
       "\n",
       "    .dataframe thead th {\n",
       "        text-align: right;\n",
       "    }\n",
       "</style>\n",
       "<table border=\"1\" class=\"dataframe\">\n",
       "  <thead>\n",
       "    <tr style=\"text-align: right;\">\n",
       "      <th></th>\n",
       "      <th>sim</th>\n",
       "      <th>word</th>\n",
       "    </tr>\n",
       "  </thead>\n",
       "  <tbody>\n",
       "    <tr>\n",
       "      <th>0</th>\n",
       "      <td>0.824547</td>\n",
       "      <td>political-media</td>\n",
       "    </tr>\n",
       "    <tr>\n",
       "      <th>1</th>\n",
       "      <td>0.797148</td>\n",
       "      <td>social-</td>\n",
       "    </tr>\n",
       "    <tr>\n",
       "      <th>2</th>\n",
       "      <td>0.789110</td>\n",
       "      <td>politico-media</td>\n",
       "    </tr>\n",
       "    <tr>\n",
       "      <th>3</th>\n",
       "      <td>0.779170</td>\n",
       "      <td>social-national</td>\n",
       "    </tr>\n",
       "    <tr>\n",
       "      <th>4</th>\n",
       "      <td>0.777701</td>\n",
       "      <td>social-based</td>\n",
       "    </tr>\n",
       "    <tr>\n",
       "      <th>...</th>\n",
       "      <td>...</td>\n",
       "      <td>...</td>\n",
       "    </tr>\n",
       "    <tr>\n",
       "      <th>495</th>\n",
       "      <td>0.599660</td>\n",
       "      <td>content-oriented</td>\n",
       "    </tr>\n",
       "    <tr>\n",
       "      <th>496</th>\n",
       "      <td>0.599635</td>\n",
       "      <td>political-party</td>\n",
       "    </tr>\n",
       "    <tr>\n",
       "      <th>497</th>\n",
       "      <td>0.599526</td>\n",
       "      <td>collectivism-individualism</td>\n",
       "    </tr>\n",
       "    <tr>\n",
       "      <th>498</th>\n",
       "      <td>0.599275</td>\n",
       "      <td>hypermedia</td>\n",
       "    </tr>\n",
       "    <tr>\n",
       "      <th>499</th>\n",
       "      <td>0.599271</td>\n",
       "      <td>mecklermedia</td>\n",
       "    </tr>\n",
       "  </tbody>\n",
       "</table>\n",
       "<p>500 rows × 2 columns</p>\n",
       "</div>"
      ],
      "text/plain": [
       "          sim                        word\n",
       "0    0.824547             political-media\n",
       "1    0.797148                     social-\n",
       "2    0.789110              politico-media\n",
       "3    0.779170             social-national\n",
       "4    0.777701                social-based\n",
       "..        ...                         ...\n",
       "495  0.599660            content-oriented\n",
       "496  0.599635             political-party\n",
       "497  0.599526  collectivism-individualism\n",
       "498  0.599275                  hypermedia\n",
       "499  0.599271                mecklermedia\n",
       "\n",
       "[500 rows x 2 columns]"
      ]
     },
     "execution_count": 67,
     "metadata": {},
     "output_type": "execute_result"
    }
   ],
   "source": [
    "df_mo"
   ]
  },
  {
   "cell_type": "code",
   "execution_count": null,
   "id": "4c118a81",
   "metadata": {},
   "outputs": [],
   "source": []
  },
  {
   "cell_type": "markdown",
   "id": "6bfa7314",
   "metadata": {},
   "source": [
    "# sql"
   ]
  },
  {
   "cell_type": "markdown",
   "id": "ccb404c5",
   "metadata": {},
   "source": [
    "## F10に登場する単語"
   ]
  },
  {
   "cell_type": "code",
   "execution_count": 10,
   "id": "d1f7d877",
   "metadata": {},
   "outputs": [],
   "source": [
    "connection = srsql.srsql('10years')\n",
    "sql = \"SELECT * FROM word_list\"\n",
    "with connection:\n",
    "    with connection.cursor() as cur:\n",
    "        cur.execute(sql, ())\n",
    "        c_result = cur.fetchall()\n",
    "df = pd.DataFrame(c_result)"
   ]
  },
  {
   "cell_type": "markdown",
   "id": "80e0c782",
   "metadata": {},
   "source": [
    "## 単語-回数-企業"
   ]
  },
  {
   "cell_type": "code",
   "execution_count": 11,
   "id": "613d1dc4",
   "metadata": {},
   "outputs": [],
   "source": [
    "connection = srsql.srsql('10years')\n",
    "sql = \"SELECT * FROM count\"\n",
    "with connection:\n",
    "    with connection.cursor() as cur:\n",
    "        cur.execute(sql, ())\n",
    "        c_result = cur.fetchall()\n",
    "df_c = pd.DataFrame(c_result)"
   ]
  },
  {
   "cell_type": "markdown",
   "id": "ae044144",
   "metadata": {},
   "source": [
    "## 企業-総単語数"
   ]
  },
  {
   "cell_type": "code",
   "execution_count": 11,
   "id": "83846b2a",
   "metadata": {},
   "outputs": [],
   "source": [
    "# connection = srsql.srsql('10years')\n",
    "# sql = \"SELECT * FROM company\"\n",
    "# with connection:\n",
    "#     with connection.cursor() as cur:\n",
    "#         cur.execute(sql, ())\n",
    "#         c_result = cur.fetchall()\n",
    "# df_sum = pd.DataFrame(c_result)"
   ]
  },
  {
   "cell_type": "code",
   "execution_count": 12,
   "id": "1b718066",
   "metadata": {},
   "outputs": [],
   "source": [
    "connection = srsql.srsql('10years')\n",
    "sql = \"SELECT * FROM count inner join company on count.company = company.company\"\n",
    "with connection:\n",
    "    with connection.cursor() as cur:\n",
    "        cur.execute(sql, ())\n",
    "        c_result = cur.fetchall()\n",
    "df_s = pd.DataFrame(c_result)"
   ]
  },
  {
   "cell_type": "code",
   "execution_count": 13,
   "id": "68ab7db3",
   "metadata": {},
   "outputs": [],
   "source": [
    "del c_result"
   ]
  },
  {
   "cell_type": "markdown",
   "id": "c05820da",
   "metadata": {},
   "source": [
    "# 指定単語で検索"
   ]
  },
  {
   "cell_type": "markdown",
   "id": "8445b081",
   "metadata": {},
   "source": [
    "## 単語を指定してください"
   ]
  },
  {
   "cell_type": "code",
   "execution_count": 34,
   "id": "e121c68b",
   "metadata": {},
   "outputs": [],
   "source": [
    "# EV\n",
    "# game & e-sports\n",
    "# medical device\n",
    "# edtech\n",
    "# cloud-computing\n",
    "# social-media\n",
    "# internet-of-things\n",
    "# fintech\n",
    "# pa_term = \"internet-of-things\""
   ]
  },
  {
   "cell_type": "markdown",
   "id": "fccbc1f9",
   "metadata": {},
   "source": [
    "## 実行"
   ]
  },
  {
   "cell_type": "markdown",
   "id": "96046601",
   "metadata": {},
   "source": [
    "word = model.wv.most_similar(pa_term, topn=2000)"
   ]
  },
  {
   "cell_type": "markdown",
   "id": "7cb946b9",
   "metadata": {},
   "source": [
    "num = 0\n",
    "w_list = []\n",
    "for i in tqdm(range(len(word))):\n",
    "    a = word[i]\n",
    "    b = a[0] in df.values\n",
    "    if b == True:\n",
    "        num += 1\n",
    "        w_list.append(a)\n",
    "        if num >= 500:\n",
    "            break"
   ]
  },
  {
   "cell_type": "code",
   "execution_count": 68,
   "id": "84c11798",
   "metadata": {},
   "outputs": [],
   "source": [
    "# 親単語が出てくる企業\n",
    "i = pa_term in df_s.values\n",
    "if i == True:\n",
    "    parents = df_s[df_s[\"word\"] == pa_term]\n",
    "parents.set_axis(list(parents[\"company\"]), inplace=True)"
   ]
  },
  {
   "cell_type": "code",
   "execution_count": 69,
   "id": "d5841b8e",
   "metadata": {
    "scrolled": true
   },
   "outputs": [
    {
     "data": {
      "text/html": [
       "<div>\n",
       "<style scoped>\n",
       "    .dataframe tbody tr th:only-of-type {\n",
       "        vertical-align: middle;\n",
       "    }\n",
       "\n",
       "    .dataframe tbody tr th {\n",
       "        vertical-align: top;\n",
       "    }\n",
       "\n",
       "    .dataframe thead th {\n",
       "        text-align: right;\n",
       "    }\n",
       "</style>\n",
       "<table border=\"1\" class=\"dataframe\">\n",
       "  <thead>\n",
       "    <tr style=\"text-align: right;\">\n",
       "      <th></th>\n",
       "      <th>word</th>\n",
       "      <th>count</th>\n",
       "      <th>company</th>\n",
       "      <th>id</th>\n",
       "      <th>company.company</th>\n",
       "      <th>sum</th>\n",
       "    </tr>\n",
       "  </thead>\n",
       "  <tbody>\n",
       "    <tr>\n",
       "      <th>ANSS.OQ</th>\n",
       "      <td>social-media</td>\n",
       "      <td>1</td>\n",
       "      <td>ANSS.OQ</td>\n",
       "      <td>45</td>\n",
       "      <td>ANSS.OQ</td>\n",
       "      <td>69481</td>\n",
       "    </tr>\n",
       "    <tr>\n",
       "      <th>C.N</th>\n",
       "      <td>social-media</td>\n",
       "      <td>8</td>\n",
       "      <td>C.N</td>\n",
       "      <td>3686</td>\n",
       "      <td>C.N</td>\n",
       "      <td>8607659</td>\n",
       "    </tr>\n",
       "    <tr>\n",
       "      <th>ELA.A</th>\n",
       "      <td>social-media</td>\n",
       "      <td>3</td>\n",
       "      <td>ELA.A</td>\n",
       "      <td>2512</td>\n",
       "      <td>ELA.A</td>\n",
       "      <td>45715</td>\n",
       "    </tr>\n",
       "    <tr>\n",
       "      <th>GHC.N</th>\n",
       "      <td>social-media</td>\n",
       "      <td>8</td>\n",
       "      <td>GHC.N</td>\n",
       "      <td>1014</td>\n",
       "      <td>GHC.N</td>\n",
       "      <td>75756</td>\n",
       "    </tr>\n",
       "    <tr>\n",
       "      <th>WISH.OQ</th>\n",
       "      <td>social-media</td>\n",
       "      <td>2</td>\n",
       "      <td>WISH.OQ</td>\n",
       "      <td>4031</td>\n",
       "      <td>WISH.OQ</td>\n",
       "      <td>10908</td>\n",
       "    </tr>\n",
       "  </tbody>\n",
       "</table>\n",
       "</div>"
      ],
      "text/plain": [
       "                 word  count  company    id company.company      sum\n",
       "ANSS.OQ  social-media      1  ANSS.OQ    45         ANSS.OQ    69481\n",
       "C.N      social-media      8      C.N  3686             C.N  8607659\n",
       "ELA.A    social-media      3    ELA.A  2512           ELA.A    45715\n",
       "GHC.N    social-media      8    GHC.N  1014           GHC.N    75756\n",
       "WISH.OQ  social-media      2  WISH.OQ  4031         WISH.OQ    10908"
      ]
     },
     "execution_count": 69,
     "metadata": {},
     "output_type": "execute_result"
    }
   ],
   "source": [
    "parents"
   ]
  },
  {
   "cell_type": "code",
   "execution_count": 70,
   "id": "a1e6d81f",
   "metadata": {
    "scrolled": true
   },
   "outputs": [
    {
     "data": {
      "application/vnd.jupyter.widget-view+json": {
       "model_id": "3b461c7b488c4608967f8a17eb194a23",
       "version_major": 2,
       "version_minor": 0
      },
      "text/plain": [
       "  0%|          | 0/500 [00:00<?, ?it/s]"
      ]
     },
     "metadata": {},
     "output_type": "display_data"
    }
   ],
   "source": [
    "k1 = 2\n",
    "b1 = 0.75\n",
    "CS = pd.DataFrame()\n",
    "d1 = []\n",
    "for i in tqdm(w_list): # iが対象としている子単語\n",
    "    sa = df_mo.set_axis(df_mo[\"word\"]).loc[i, 'sim']\n",
    "    kids = df_s[df_s[\"word\"] == i] # 子単語が出てくる企業\n",
    "    kids.set_axis(list(kids[\"company\"]), inplace=True)\n",
    "    if len(list(kids[\"company\"])) == 0:\n",
    "        d1.append(i)\n",
    "        continue\n",
    "    else:\n",
    "        sb = len(set(list(parents[\"company\"])) & set(list(kids[\"company\"]))) / len(list(kids[\"company\"])) # sb\n",
    "        fs = (2 * sa * sb) / (sa + sb) # fs\n",
    "        tf = kids[\"count\"] / kids[\"sum\"]\n",
    "        avg_dl = kids[\"sum\"].sum() / len(list(kids[\"sum\"]))\n",
    "        cs = fs * tf * (k1 + 1) / (tf + k1 * (1 - b1 + b1 * tf / avg_dl)) # \n",
    "        CS = pd.concat([CS, cs], axis=1)\n",
    "        CS.rename(columns = {0 : i}, inplace = True)"
   ]
  },
  {
   "cell_type": "code",
   "execution_count": 71,
   "id": "55f0c229",
   "metadata": {},
   "outputs": [
    {
     "data": {
      "text/plain": [
       "0.5992711782455444"
      ]
     },
     "execution_count": 71,
     "metadata": {},
     "output_type": "execute_result"
    }
   ],
   "source": [
    "sa"
   ]
  },
  {
   "cell_type": "markdown",
   "id": "8d821bfe",
   "metadata": {},
   "source": [
    "## 対象単語保存"
   ]
  },
  {
   "cell_type": "code",
   "execution_count": 31,
   "id": "4f3174a2",
   "metadata": {
    "scrolled": true
   },
   "outputs": [],
   "source": [
    "# w2v_score = pd.DataFrame(w_list, columns=['word', 'w2v'])"
   ]
  },
  {
   "cell_type": "code",
   "execution_count": 32,
   "id": "6194158e",
   "metadata": {
    "scrolled": true
   },
   "outputs": [],
   "source": [
    "# w2v_score.to_csv(\"result/\" + pa_term + \"_w2v.csv\", index=False)"
   ]
  },
  {
   "cell_type": "markdown",
   "id": "ad5cbb10",
   "metadata": {},
   "source": [
    "## 保存"
   ]
  },
  {
   "cell_type": "code",
   "execution_count": 72,
   "id": "2a9f544b",
   "metadata": {},
   "outputs": [],
   "source": [
    "# os.chdir(\"C:\\\\Users\\\\SR\\\\python\\\\m1\\\\similarity\\\\\")\n",
    "CS.to_csv(\"fasttext_result/\" + pa_term + \"_fasttext.csv\")"
   ]
  },
  {
   "cell_type": "markdown",
   "id": "c470f588",
   "metadata": {},
   "source": [
    "## 企業ランク付け"
   ]
  },
  {
   "cell_type": "code",
   "execution_count": 73,
   "id": "5866823e",
   "metadata": {},
   "outputs": [],
   "source": [
    "CS = CS.sum(axis=1).sort_values(ascending=False)"
   ]
  },
  {
   "cell_type": "code",
   "execution_count": 74,
   "id": "cd8d8a52",
   "metadata": {},
   "outputs": [],
   "source": [
    "# 保存\n",
    "CS.to_csv(\"fasttext_result/\" + pa_term + \"_fasttext_sum.csv\")"
   ]
  },
  {
   "cell_type": "code",
   "execution_count": null,
   "id": "48e8599c",
   "metadata": {},
   "outputs": [],
   "source": []
  },
  {
   "cell_type": "markdown",
   "id": "aba5df86",
   "metadata": {},
   "source": [
    "# andとor検索(共通部分と全て)"
   ]
  },
  {
   "cell_type": "code",
   "execution_count": 199,
   "id": "0a9aaf12",
   "metadata": {},
   "outputs": [],
   "source": [
    "# cloud computing\n",
    "# social media\n",
    "# internet things\n",
    "# finance technology\n",
    "# clean water\n",
    "# sewer water\n",
    "# iot cloud\n",
    "p1 = \"sewer\"\n",
    "p2 = \"water\""
   ]
  },
  {
   "cell_type": "code",
   "execution_count": 200,
   "id": "2fdfb2a5",
   "metadata": {},
   "outputs": [],
   "source": [
    "word = model.get_nearest_neighbors(p1+p2, k=500)"
   ]
  },
  {
   "cell_type": "code",
   "execution_count": 201,
   "id": "b24672cf",
   "metadata": {},
   "outputs": [
    {
     "data": {
      "text/plain": [
       "[(0.8667479157447815, 'waterwater'),\n",
       " (0.8447642922401428, 'sewer'),\n",
       " (0.8342781066894531, 'water-sewer'),\n",
       " (0.8093318939208984, 'semerwater'),\n",
       " (0.8012778759002686, 'sewering'),\n",
       " (0.7978928685188293, 'sewers'),\n",
       " (0.7965499758720398, 'sewerside'),\n",
       " (0.7952089309692383, 'riverwater'),\n",
       " (0.7904564142227173, 'tywater'),\n",
       " (0.7871227860450745, 'elterwater'),\n",
       " (0.7827097177505493, 'overwater'),\n",
       " (0.7817373871803284, 'tierwater'),\n",
       " (0.7735006213188171, '-water'),\n",
       " (0.7732053995132446, 'sewer-pipes'),\n",
       " (0.7684579491615295, 'o-water'),\n",
       " (0.7680607438087463, 'sheerwater'),\n",
       " (0.7664675116539001, 'sewerman'),\n",
       " (0.7616521716117859, 'biwater'),\n",
       " (0.7582670450210571, 'sewerage'),\n",
       " (0.7574043869972229, 'water'),\n",
       " (0.7549451589584351, 'storm-water'),\n",
       " (0.7539404034614563, 'murkywater'),\n",
       " (0.7527543306350708, 'water-water'),\n",
       " (0.7509233355522156, 'tap-water'),\n",
       " (0.7473088502883911, 'underwater'),\n",
       " (0.746224045753479, 'stormwater'),\n",
       " (0.7453334331512451, 'zonderwater'),\n",
       " (0.7453058958053589, 'sewerby'),\n",
       " (0.7449666857719421, 'fire-water'),\n",
       " (0.7433677315711975, 'seqwater'),\n",
       " (0.741417646408081, 'dunwater'),\n",
       " (0.7394344210624695, 'aswater'),\n",
       " (0.7358033061027527, 'leeghwater'),\n",
       " (0.7351244688034058, 'silverwater'),\n",
       " (0.734816312789917, 'land-water'),\n",
       " (0.7324309945106506, 'seweriin'),\n",
       " (0.7319096922874451, 'k-water'),\n",
       " (0.7317323088645935, 'still-water'),\n",
       " (0.7317145466804504, 'namwater'),\n",
       " (0.7305440902709961, 'potable-water'),\n",
       " (0.7290414571762085, 'awater'),\n",
       " (0.7288630604743958, 'ditchwater'),\n",
       " (0.7286668419837952, 'moonwater'),\n",
       " (0.7272028923034668, 'walkwater'),\n",
       " (0.7262201309204102, 'holy-water'),\n",
       " (0.7258471846580505, 'highwater'),\n",
       " (0.7253624796867371, 'flood-water'),\n",
       " (0.7252416014671326, 'sjwater'),\n",
       " (0.724748969078064, 'spoorwater'),\n",
       " (0.7245224714279175, 'amwater'),\n",
       " (0.7236103415489197, 'tapwater'),\n",
       " (0.72334885597229, 'wastwater'),\n",
       " (0.7227399349212646, 'washwater'),\n",
       " (0.7220402359962463, 'tarwater'),\n",
       " (0.7208553552627563, 'bathwater'),\n",
       " (0.7204720973968506, 'sea-water'),\n",
       " (0.7196794748306274, 'sewed'),\n",
       " (0.7190542817115784, 'green-water'),\n",
       " (0.7189610004425049, 'catwater'),\n",
       " (0.7189270257949829, 'heavywater'),\n",
       " (0.7187864184379578, 'connswater'),\n",
       " (0.7181978225708008, 'owater'),\n",
       " (0.7176279425621033, 'splashwater'),\n",
       " (0.7166680693626404, 'sewer-dwelling'),\n",
       " (0.7161614894866943, 'water-wastewater'),\n",
       " (0.7160767912864685, 'steam-water'),\n",
       " (0.7155207395553589, 'passwater'),\n",
       " (0.7146744728088379, 'frodis-water'),\n",
       " (0.7144258618354797, 'dirtwater'),\n",
       " (0.714353084564209, 'tar-water'),\n",
       " (0.7112146615982056, 'skywater'),\n",
       " (0.7106608748435974, 'chasewater'),\n",
       " (0.7104766964912415, 'open-water'),\n",
       " (0.709644079208374, 'groswater'),\n",
       " (0.7095612287521362, 'sewage-filled'),\n",
       " (0.7094990015029907, 'spring-water'),\n",
       " (0.7090622782707214, 'baywater'),\n",
       " (0.7090364694595337, 'waterwatch'),\n",
       " (0.7090315818786621, 'southwater'),\n",
       " (0.7082722187042236, 'chilled-water'),\n",
       " (0.7081195712089539, 'rainwater'),\n",
       " (0.7078192830085754, 'sunwater'),\n",
       " (0.7069101333618164, 'salt-water'),\n",
       " (0.7065516114234924, 'barkwater'),\n",
       " (0.7062068581581116, 'seea-water'),\n",
       " (0.7058826684951782, 'lime-water'),\n",
       " (0.7056384086608887, 'rain-water'),\n",
       " (0.7055774927139282, 'bitterwater'),\n",
       " (0.7054862976074219, 'nuwater'),\n",
       " (0.7050243616104126, 'bleuwater'),\n",
       " (0.7050230503082275, 'sewage'),\n",
       " (0.704998791217804, 'waterwalls'),\n",
       " (0.7046210169792175, 'ouwater'),\n",
       " (0.7042868137359619, 'hot-water'),\n",
       " (0.7042770981788635, 'fairwater'),\n",
       " (0.7035861611366272, 'coolwater'),\n",
       " (0.7034031748771667, 'warmwater'),\n",
       " (0.7032661437988281, 'waterport'),\n",
       " (0.7032166123390198, 'waterwall'),\n",
       " (0.7031117677688599, 'greywater'),\n",
       " (0.7030608057975769, 'air-water'),\n",
       " (0.7013031840324402, 'monsewer'),\n",
       " (0.7006487250328064, 'mid-water'),\n",
       " (0.7006432414054871, 'ground-water'),\n",
       " (0.7002500295639038, 'pentwater'),\n",
       " (0.700161874294281, 'metrowater'),\n",
       " (0.6999560594558716, 'waterworks'),\n",
       " (0.699180006980896, 'greenwater'),\n",
       " (0.6990661025047302, 'waterwalker'),\n",
       " (0.6990424990653992, 'northwater'),\n",
       " (0.6984632015228271, 'graafwater'),\n",
       " (0.6977244019508362, 'seweryn'),\n",
       " (0.6975100040435791, 'off-water'),\n",
       " (0.6973122954368591, 'ewater'),\n",
       " (0.6961222290992737, 'clean-water'),\n",
       " (0.6955741047859192, 'melt-water'),\n",
       " (0.6954075694084167, 'sewage-laden'),\n",
       " (0.6952726244926453, 'un-water'),\n",
       " (0.6952003240585327, 'tide-water'),\n",
       " (0.6950616240501404, 'catchwater'),\n",
       " (0.6950328350067139, 'lightwater'),\n",
       " (0.6949558258056641, 'waste-water'),\n",
       " (0.6939018368721008, 'cool-water'),\n",
       " (0.692780077457428, 'water-ice'),\n",
       " (0.6925152540206909, 'water-flooded'),\n",
       " (0.6923258304595947, 'waterworn'),\n",
       " (0.6920308470726013, 'attwater'),\n",
       " (0.6920095086097717, 'soda-water'),\n",
       " (0.6918831467628479, 'breakwater'),\n",
       " (0.6917095184326172, 'tumwater'),\n",
       " (0.6916612386703491, 'stroudwater'),\n",
       " (0.6915555000305176, 'graywater'),\n",
       " (0.6912330985069275, 'waste-of-water'),\n",
       " (0.6910749077796936, 'water-to-water'),\n",
       " (0.6909888982772827, 'cabeswater'),\n",
       " (0.6908338665962219, 'seawater'),\n",
       " (0.690489649772644, 'minewater'),\n",
       " (0.6903581023216248, 'watertank'),\n",
       " (0.6902099251747131, 'midwater'),\n",
       " (0.689706027507782, 'craneswater'),\n",
       " (0.688781201839447, 'jerkwater'),\n",
       " (0.6887499690055847, 'pittwater'),\n",
       " (0.6882275342941284, 'boil-water'),\n",
       " (0.6871875524520874, 'light-water'),\n",
       " (0.6871604323387146, 'swampwater'),\n",
       " (0.6867456436157227, 'newater'),\n",
       " (0.6866384744644165, 'polywater'),\n",
       " (0.6865019798278809, 'allanwater'),\n",
       " (0.6863965392112732, 'loudwater'),\n",
       " (0.6863524913787842, 'waterwork'),\n",
       " (0.6863200664520264, 'waterseal'),\n",
       " (0.6859748363494873, 'outwater'),\n",
       " (0.685723066329956, 'freezywater'),\n",
       " (0.6849196553230286, 'ice-water'),\n",
       " (0.6847854256629944, 'waterwolf'),\n",
       " (0.6846376061439514, 'water-swamp'),\n",
       " (0.6841539144515991, 'water-using'),\n",
       " (0.6833157539367676, 'byewater'),\n",
       " (0.6832554936408997, 'ashwater'),\n",
       " (0.6831982135772705, 'ullswater'),\n",
       " (0.6831871867179871, 'cattewater'),\n",
       " (0.6829022169113159, 'grey-water'),\n",
       " (0.6828066110610962, 'openwater'),\n",
       " (0.68276447057724, 'waterwitch'),\n",
       " (0.6827551126480103, 'freakwater'),\n",
       " (0.6827425360679626, 'rose-water'),\n",
       " (0.6825465559959412, 'warm-water'),\n",
       " (0.6819801330566406, 'saltwater'),\n",
       " (0.6811925768852234, 'bywater'),\n",
       " (0.6809856295585632, 'veldwezelt-hezerwater'),\n",
       " (0.6809607148170471, 'hard-water'),\n",
       " (0.6809358596801758, 'ocean-water'),\n",
       " (0.6805017590522766, 'limewater'),\n",
       " (0.6804662942886353, 'gas-water'),\n",
       " (0.6798228621482849, 'flat-water'),\n",
       " (0.6797971129417419, 'slack-water'),\n",
       " (0.67964106798172, 'stilwater'),\n",
       " (0.6787331104278564, 'teeswater'),\n",
       " (0.6787137389183044, 'back-water'),\n",
       " (0.6785290837287903, 'blue-water'),\n",
       " (0.6783313751220703, 'waterplace'),\n",
       " (0.6782733798027039, 'water-pumping'),\n",
       " (0.6781482696533203, 'sewerzowii'),\n",
       " (0.6780065894126892, 'waterbed'),\n",
       " (0.6774699091911316, 'brown-water'),\n",
       " (0.6773185133934021, 'bottled-water'),\n",
       " (0.6769251823425293, 'bowater'),\n",
       " (0.6768784523010254, 'roadwater'),\n",
       " (0.6766337752342224, 'water-pipes'),\n",
       " (0.6766021251678467, 'waterpipes'),\n",
       " (0.6764160394668579, 'waterway'),\n",
       " (0.675891101360321, 'wisewater'),\n",
       " (0.6756642460823059, 'sewells'),\n",
       " (0.6750856637954712, 'saskwater'),\n",
       " (0.6746425628662109, 'brookwater'),\n",
       " (0.674635112285614, 'waterpot'),\n",
       " (0.6736838221549988, 'gillenwater'),\n",
       " (0.6735466122627258, 'elkwater'),\n",
       " (0.672896683216095, 'sewages'),\n",
       " (0.6723998785018921, 'parkwater'),\n",
       " (0.6722938418388367, 'pore-water'),\n",
       " (0.6722185015678406, 'lullwater'),\n",
       " (0.6720938682556152, 'waterbeach'),\n",
       " (0.6720825433731079, 'water-pipe'),\n",
       " (0.6714157462120056, 'water-hole'),\n",
       " (0.6714127659797668, 'crosswater'),\n",
       " (0.6711971163749695, 'waterways'),\n",
       " (0.6711146235466003, 'sharkwater'),\n",
       " (0.670638382434845, 'below-water'),\n",
       " (0.6704280972480774, 'waterdown'),\n",
       " (0.6700999140739441, 'earth-water'),\n",
       " (0.6697767972946167, 'cutwater'),\n",
       " (0.6697445511817932, 'fish-out-of-water'),\n",
       " (0.6693146228790283, 'water-air'),\n",
       " (0.669196605682373, 'bottom-water'),\n",
       " (0.6691191792488098, 'free-water'),\n",
       " (0.669026792049408, 'swiftwater'),\n",
       " (0.6690177321434021, 'waterspout'),\n",
       " (0.6687964200973511, 'moorswater'),\n",
       " (0.6685124039649963, 'flatwater'),\n",
       " (0.668415904045105, 'westwater'),\n",
       " (0.668268084526062, 'ratwater'),\n",
       " (0.6681315302848816, 'waterslides'),\n",
       " (0.6681264638900757, 'heavy-water'),\n",
       " (0.6680148243904114, 'waterslide'),\n",
       " (0.6677037477493286, 'wattswater'),\n",
       " (0.6673495769500732, 'waterpoort'),\n",
       " (0.6673194766044617, 'hoekwater'),\n",
       " (0.6672645211219788, 'waterpumps'),\n",
       " (0.6672576665878296, 'haweswater'),\n",
       " (0.667211651802063, 'swift-water'),\n",
       " (0.6668719053268433, 'sewe'),\n",
       " (0.6668165922164917, 'cold-water'),\n",
       " (0.6659658551216125, 'seweryna'),\n",
       " (0.6657121181488037, 'kellswater'),\n",
       " (0.6656999588012695, 'hardwater'),\n",
       " (0.6656586527824402, 'land-to-water'),\n",
       " (0.6656053066253662, 'streamwater'),\n",
       " (0.6655129790306091, 'watertanks'),\n",
       " (0.6654649972915649, 'dishwater'),\n",
       " (0.6653757691383362, 'unitywater'),\n",
       " (0.664309024810791, 'watery'),\n",
       " (0.663786768913269, 'binnewater'),\n",
       " (0.6633869409561157, 'water-steam'),\n",
       " (0.6633522510528564, 'on-water'),\n",
       " (0.6633105874061584, 'water-main'),\n",
       " (0.6631589531898499, 'floodwater'),\n",
       " (0.6618106961250305, 'waterworld'),\n",
       " (0.6617172956466675, 'firewater'),\n",
       " (0.6616352200508118, 'darkwater'),\n",
       " (0.6614818572998047, 'running-water'),\n",
       " (0.6614270210266113, 'waterspouts'),\n",
       " (0.6606029868125916, 'water-vole'),\n",
       " (0.6599792838096619, 'waterrow'),\n",
       " (0.6595549583435059, 'water-bucket'),\n",
       " (0.6595051884651184, 'flood-waters'),\n",
       " (0.6594012379646301, 'cross-water'),\n",
       " (0.6590663194656372, 'feed-water'),\n",
       " (0.6584817171096802, 'sewee'),\n",
       " (0.6584293842315674, 'waterflooding'),\n",
       " (0.6583444476127625, 'water-way'),\n",
       " (0.6582624912261963, 'porewater'),\n",
       " (0.6581414937973022, 'shoalwater'),\n",
       " (0.6580336689949036, 'chugwater'),\n",
       " (0.6579641103744507, 'tail-water'),\n",
       " (0.657723069190979, 'waterway-0'),\n",
       " (0.6574615836143494, 'well-water'),\n",
       " (0.6574218273162842, 'out-of-water'),\n",
       " (0.6573320031166077, 'waterweg'),\n",
       " (0.6569160223007202, 'water-rat'),\n",
       " (0.656832218170166, 'hartswater'),\n",
       " (0.6567818522453308, 'waterpipe'),\n",
       " (0.6565012335777283, 'sewercap'),\n",
       " (0.6563658118247986, 'nearwater'),\n",
       " (0.6561928391456604, 'water-park'),\n",
       " (0.6558789610862732, 'longwater'),\n",
       " (0.6558585166931152, 'bayswater'),\n",
       " (0.6557100415229797, 'bilgewater'),\n",
       " (0.6555290818214417, 'freewater'),\n",
       " (0.6551844477653503, 'rosenwater'),\n",
       " (0.6549938321113586, 'wellwater'),\n",
       " (0.6548135876655579, 'gladewater'),\n",
       " (0.6546154022216797, 'surface-water'),\n",
       " (0.6546081304550171, 'waterdrop'),\n",
       " (0.6546030640602112, 'fast-water'),\n",
       " (0.6546021103858948, 'in-water'),\n",
       " (0.6545958518981934, 'waterscape'),\n",
       " (0.6544777154922485, 'water-tower'),\n",
       " (0.6544763445854187, 'water-bottom'),\n",
       " (0.6542671918869019, 'water-diversion'),\n",
       " (0.6540685296058655, 'water-ways'),\n",
       " (0.6539942622184753, 'drainpipes'),\n",
       " (0.6532771587371826, 'waterpump'),\n",
       " (0.6532201766967773, 'tailwater'),\n",
       " (0.6530237793922424, 'unsewered'),\n",
       " (0.6529154777526855, 'wateryell'),\n",
       " (0.6527655124664307, 'water-catchment'),\n",
       " (0.6526881456375122, 'waterpod'),\n",
       " (0.6523024439811707, 'waterbourne'),\n",
       " (0.6518446803092957, 'water-locked'),\n",
       " (0.6517030000686646, 'water-eroded'),\n",
       " (0.6516178846359253, 'drinking-water'),\n",
       " (0.6514912843704224, 'sewer-based'),\n",
       " (0.650973379611969, 'water-transport'),\n",
       " (0.6506117582321167, 'ecowater'),\n",
       " (0.6505106687545776, 'underwatering'),\n",
       " (0.6505101919174194, 'shallowater'),\n",
       " (0.6504324674606323, 'fourmilewater'),\n",
       " (0.6503031253814697, 'springwater'),\n",
       " (0.6501920223236084, 'rosewater'),\n",
       " (0.6494943499565125, 'waterwell'),\n",
       " (0.6493039727210999, 'waterflood'),\n",
       " (0.6492986679077148, 'outfall'),\n",
       " (0.6491428017616272, 'water-use'),\n",
       " (0.6489022970199585, 'lakewater'),\n",
       " (0.6487656235694885, 'water-heater'),\n",
       " (0.6486961245536804, 'watersplash'),\n",
       " (0.6485235095024109, 'water-works'),\n",
       " (0.6484963297843933, 'water-tank'),\n",
       " (0.6483277082443237, 'wateridge'),\n",
       " (0.6480332016944885, 'water-pump'),\n",
       " (0.6479398608207703, 'water-parks'),\n",
       " (0.6478720903396606, 'blakewater'),\n",
       " (0.6477552056312561, 'sewedy'),\n",
       " (0.6475804448127747, 'water-sealed'),\n",
       " (0.6475532054901123, 'white-water'),\n",
       " (0.6467266082763672, 'water-'),\n",
       " (0.6462652087211609, 'rice-water'),\n",
       " (0.6460759043693542, 'coal-water'),\n",
       " (0.6459660530090332, 'waterside'),\n",
       " (0.6458110809326172, 'bluewater'),\n",
       " (0.6457430124282837, 'waterdale'),\n",
       " (0.6457420587539673, 'under-water'),\n",
       " (0.645167887210846, 'oily-water'),\n",
       " (0.645129919052124, 'redwater'),\n",
       " (0.6448841691017151, 'water-surface'),\n",
       " (0.6447752714157104, 'sidewater'),\n",
       " (0.6444700956344604, 'linkwater'),\n",
       " (0.644307017326355, 'boiling-water'),\n",
       " (0.6442773938179016, 'brackishwater'),\n",
       " (0.6442509889602661, 'shineywater'),\n",
       " (0.6442152857780457, 'waterbeds'),\n",
       " (0.6441981792449951, 'waterwort'),\n",
       " (0.643994927406311, 'searchwater'),\n",
       " (0.643992006778717, 'sewel'),\n",
       " (0.6436442136764526, 'waterscapes'),\n",
       " (0.6432526707649231, 'deep-water'),\n",
       " (0.6429221034049988, 'water-jug'),\n",
       " (0.6429035067558289, 'waterwood'),\n",
       " (0.6428342461585999, 'water-spout'),\n",
       " (0.6425026059150696, 'water-wells'),\n",
       " (0.6409893035888672, 'waterworth'),\n",
       " (0.6405255794525146, 'duckwater'),\n",
       " (0.6404023170471191, 'water-slide'),\n",
       " (0.6402981281280518, 'sewage-polluted'),\n",
       " (0.6402664184570312, 'watersmeet'),\n",
       " (0.6400050520896912, 'klaarwater'),\n",
       " (0.6398612856864929, 'freshwater'),\n",
       " (0.6397027373313904, 'sherewater'),\n",
       " (0.6397024989128113, 'waterhead'),\n",
       " (0.6395943760871887, 'water-landing'),\n",
       " (0.6394174695014954, 'low-water'),\n",
       " (0.6391531825065613, 'water-bed'),\n",
       " (0.6390560865402222, 'waterrock'),\n",
       " (0.6389753222465515, 'topwater'),\n",
       " (0.6388475894927979, 'slick-water'),\n",
       " (0.6387991309165955, 'waternsw'),\n",
       " (0.6385124325752258, 'all-water'),\n",
       " (0.6377559900283813, 'water-storing'),\n",
       " (0.6376243829727173, 'fitzwater'),\n",
       " (0.6375818252563477, 'shinewater'),\n",
       " (0.6370452642440796, 'waterkeeper'),\n",
       " (0.6369973421096802, 'dewater'),\n",
       " (0.6368768215179443, 'deeper-water'),\n",
       " (0.6367373466491699, 'watered'),\n",
       " (0.6358818411827087, 'waterair'),\n",
       " (0.6357626914978027, 'water-splashing'),\n",
       " (0.6357300877571106, 'watering'),\n",
       " (0.6356051564216614, 'east-the-water'),\n",
       " (0.6355209946632385, 'water-snake'),\n",
       " (0.6353536248207092, 'yorkwater'),\n",
       " (0.6352100968360901, 'outfalls'),\n",
       " (0.6351093053817749, 'water-holes'),\n",
       " (0.6350233554840088, 'waterdrops'),\n",
       " (0.6349426507949829, 'water-logged'),\n",
       " (0.6349265575408936, 'water-filled'),\n",
       " (0.6347292065620422, 'cooling-water'),\n",
       " (0.6346327066421509, 'brackish-water'),\n",
       " (0.6346129179000854, 'waterland'),\n",
       " (0.6345168352127075, 'shallow-water'),\n",
       " (0.634289562702179, 'wastewater'),\n",
       " (0.6341153383255005, 'mountain-water'),\n",
       " (0.6340267062187195, 'water-borne'),\n",
       " (0.6339374780654907, 'water-ballast'),\n",
       " (0.6339294910430908, 'water-side'),\n",
       " (0.6339187026023865, 'water-front'),\n",
       " (0.6336597204208374, 'watersides'),\n",
       " (0.6335554122924805, 'water-mill'),\n",
       " (0.6334725618362427, 'vaalwater'),\n",
       " (0.6331762075424194, 'water-cress'),\n",
       " (0.6327656507492065, 'drainages'),\n",
       " (0.6324873566627502, 'water-tanks'),\n",
       " (0.6324215531349182, 'waterfilled'),\n",
       " (0.6323438882827759, 'water-jacket'),\n",
       " (0.6323263645172119, 'drainage'),\n",
       " (0.63188236951828, 'fresh-water'),\n",
       " (0.6316916346549988, 'loweswater'),\n",
       " (0.6316297054290771, 'water-walking'),\n",
       " (0.631516695022583, 'stonewater'),\n",
       " (0.6307077407836914, 'piped'),\n",
       " (0.6305928230285645, 'blinkwater'),\n",
       " (0.6305135488510132, 'water-bottle'),\n",
       " (0.6304487586021423, 'water-spouting'),\n",
       " (0.6303111910820007, 'drain-pipes'),\n",
       " (0.630214512348175, 'above-water'),\n",
       " (0.6300331354141235, 'coolwater-lugo'),\n",
       " (0.6300014853477478, 'water-closets'),\n",
       " (0.6298230886459351, 'oudewater'),\n",
       " (0.6292821764945984, 'wate'),\n",
       " (0.6291752457618713, 'water-mills'),\n",
       " (0.6291353702545166, 'honey-water'),\n",
       " (0.6290709972381592, 'waterweed'),\n",
       " (0.6289159059524536, 'backwater'),\n",
       " (0.6288467645645142, 'water-clear'),\n",
       " (0.6287664771080017, 'hydrodemolition'),\n",
       " (0.6286294460296631, 'water-sediment'),\n",
       " (0.6283167004585266, 'water-laden'),\n",
       " (0.628294050693512, 'waterblast'),\n",
       " (0.6282285451889038, 'roaringwater'),\n",
       " (0.6267973780632019, 'wateraid'),\n",
       " (0.6267313361167908, 'creekwater'),\n",
       " (0.6265846490859985, 'waterkant'),\n",
       " (0.6263837218284607, 'bongwater'),\n",
       " (0.6261659264564514, 'drains'),\n",
       " (0.6261232495307922, 'waterplant'),\n",
       " (0.626021146774292, 'hayeswater'),\n",
       " (0.6255923509597778, 'waterbars'),\n",
       " (0.6252244114875793, 'pressurized-water'),\n",
       " (0.6250742077827454, 'water-shed'),\n",
       " (0.6247807741165161, 'water-depth'),\n",
       " (0.6244550943374634, 'water-line'),\n",
       " (0.6243682503700256, 'waterfleas'),\n",
       " (0.6242852807044983, 'clear-water'),\n",
       " (0.6240880489349365, 'water-only'),\n",
       " (0.6238665580749512, 'over-water'),\n",
       " (0.6237607598304749, 'seawaters'),\n",
       " (0.6237311959266663, 'drainville'),\n",
       " (0.6236729025840759, 'water-worn'),\n",
       " (0.6236589550971985, 'water-drop'),\n",
       " (0.6236326098442078, 'peckwater'),\n",
       " (0.623335599899292, 'bridgwater'),\n",
       " (0.6230707764625549, 'water-craft'),\n",
       " (0.6229753494262695, 'watertube'),\n",
       " (0.6227337121963501, 'drainhole'),\n",
       " (0.6223734617233276, 'water-damaged'),\n",
       " (0.622151792049408, 'water-bottles'),\n",
       " (0.6221156120300293, 'waterwise'),\n",
       " (0.6218816637992859, 'water-laid'),\n",
       " (0.6216632127761841, 'water-desalination'),\n",
       " (0.6216598749160767, 'water-jar'),\n",
       " (0.6211742162704468, 'badwater'),\n",
       " (0.6211479902267456, 'waterkeepers'),\n",
       " (0.6210964322090149, 'pinkwater'),\n",
       " (0.6210407018661499, 'sevenwaters'),\n",
       " (0.6209933161735535, 'waterpocket'),\n",
       " (0.6207789182662964, 'water-dog'),\n",
       " (0.620760440826416, 'waterpower'),\n",
       " (0.6205883622169495, 'waters-penned'),\n",
       " (0.6205816864967346, 'water-bath'),\n",
       " (0.6204249262809753, 'waterwings'),\n",
       " (0.6201852560043335, 'waterden'),\n",
       " (0.6200848817825317, 'water-tight'),\n",
       " (0.6200760006904602, 'waterfree'),\n",
       " (0.6200486421585083, 'waterfloods'),\n",
       " (0.6197215914726257, 'deathwater'),\n",
       " (0.6196829676628113, 'waterguard'),\n",
       " (0.6196593046188354, 'multi-water'),\n",
       " (0.6195632815361023, 'potable'),\n",
       " (0.6194404363632202, 'water-meadows'),\n",
       " (0.619228720664978, 'waterlevel'),\n",
       " (0.618926465511322, 'water-sheds'),\n",
       " (0.6188749670982361, 'soil-water'),\n",
       " (0.6185528635978699, 'waterpowered'),\n",
       " (0.6184043884277344, 'watereuse'),\n",
       " (0.6182817816734314, 'onewater'),\n",
       " (0.6181565523147583, 'water-well'),\n",
       " (0.6178883910179138, 'water-cement'),\n",
       " (0.6176546812057495, 'in-the-water'),\n",
       " (0.6176360845565796, 'waterless'),\n",
       " (0.6173223257064819, 'water-less'),\n",
       " (0.6170074343681335, 'groundwater'),\n",
       " (0.6169556379318237, 'water-fall'),\n",
       " (0.616773247718811, 'waterdine'),\n",
       " (0.6167274117469788, 'water-work'),\n",
       " (0.616690456867218, 'waterbridge'),\n",
       " (0.6166296005249023, 'water-conservation'),\n",
       " (0.6163303852081299, 'watering-hole'),\n",
       " (0.6161421537399292, 'water-operated'),\n",
       " (0.6157638430595398, 'drainpipe'),\n",
       " (0.6157422065734863, 'cave-diving')]"
      ]
     },
     "execution_count": 201,
     "metadata": {},
     "output_type": "execute_result"
    }
   ],
   "source": [
    "word"
   ]
  },
  {
   "cell_type": "code",
   "execution_count": 202,
   "id": "f0444fbb",
   "metadata": {},
   "outputs": [
    {
     "data": {
      "text/html": [
       "<div>\n",
       "<style scoped>\n",
       "    .dataframe tbody tr th:only-of-type {\n",
       "        vertical-align: middle;\n",
       "    }\n",
       "\n",
       "    .dataframe tbody tr th {\n",
       "        vertical-align: top;\n",
       "    }\n",
       "\n",
       "    .dataframe thead th {\n",
       "        text-align: right;\n",
       "    }\n",
       "</style>\n",
       "<table border=\"1\" class=\"dataframe\">\n",
       "  <thead>\n",
       "    <tr style=\"text-align: right;\">\n",
       "      <th></th>\n",
       "      <th>sim</th>\n",
       "      <th>word</th>\n",
       "    </tr>\n",
       "  </thead>\n",
       "  <tbody>\n",
       "    <tr>\n",
       "      <th>0</th>\n",
       "      <td>0.866748</td>\n",
       "      <td>waterwater</td>\n",
       "    </tr>\n",
       "    <tr>\n",
       "      <th>1</th>\n",
       "      <td>0.844764</td>\n",
       "      <td>sewer</td>\n",
       "    </tr>\n",
       "    <tr>\n",
       "      <th>2</th>\n",
       "      <td>0.834278</td>\n",
       "      <td>water-sewer</td>\n",
       "    </tr>\n",
       "    <tr>\n",
       "      <th>3</th>\n",
       "      <td>0.809332</td>\n",
       "      <td>semerwater</td>\n",
       "    </tr>\n",
       "    <tr>\n",
       "      <th>4</th>\n",
       "      <td>0.801278</td>\n",
       "      <td>sewering</td>\n",
       "    </tr>\n",
       "    <tr>\n",
       "      <th>...</th>\n",
       "      <td>...</td>\n",
       "      <td>...</td>\n",
       "    </tr>\n",
       "    <tr>\n",
       "      <th>495</th>\n",
       "      <td>0.616630</td>\n",
       "      <td>water-conservation</td>\n",
       "    </tr>\n",
       "    <tr>\n",
       "      <th>496</th>\n",
       "      <td>0.616330</td>\n",
       "      <td>watering-hole</td>\n",
       "    </tr>\n",
       "    <tr>\n",
       "      <th>497</th>\n",
       "      <td>0.616142</td>\n",
       "      <td>water-operated</td>\n",
       "    </tr>\n",
       "    <tr>\n",
       "      <th>498</th>\n",
       "      <td>0.615764</td>\n",
       "      <td>drainpipe</td>\n",
       "    </tr>\n",
       "    <tr>\n",
       "      <th>499</th>\n",
       "      <td>0.615742</td>\n",
       "      <td>cave-diving</td>\n",
       "    </tr>\n",
       "  </tbody>\n",
       "</table>\n",
       "<p>500 rows × 2 columns</p>\n",
       "</div>"
      ],
      "text/plain": [
       "          sim                word\n",
       "0    0.866748          waterwater\n",
       "1    0.844764               sewer\n",
       "2    0.834278         water-sewer\n",
       "3    0.809332          semerwater\n",
       "4    0.801278            sewering\n",
       "..        ...                 ...\n",
       "495  0.616630  water-conservation\n",
       "496  0.616330       watering-hole\n",
       "497  0.616142      water-operated\n",
       "498  0.615764           drainpipe\n",
       "499  0.615742         cave-diving\n",
       "\n",
       "[500 rows x 2 columns]"
      ]
     },
     "execution_count": 202,
     "metadata": {},
     "output_type": "execute_result"
    }
   ],
   "source": [
    "df_mo = pd.DataFrame(word, columns=['sim', 'word'])\n",
    "df_mo"
   ]
  },
  {
   "cell_type": "code",
   "execution_count": 203,
   "id": "57937e7f",
   "metadata": {},
   "outputs": [],
   "source": [
    "df_mo.to_csv(\"fasttext_result/\" + p1 + '_' + p2 + \"_score.csv\", index=False)"
   ]
  },
  {
   "cell_type": "code",
   "execution_count": 204,
   "id": "30f28827",
   "metadata": {},
   "outputs": [],
   "source": [
    "df_mo = df_mo.head(500)"
   ]
  },
  {
   "cell_type": "code",
   "execution_count": 205,
   "id": "2aea55d1",
   "metadata": {},
   "outputs": [],
   "source": [
    "w_list = list(df_mo[\"word\"])"
   ]
  },
  {
   "cell_type": "code",
   "execution_count": 206,
   "id": "e4c4d33e",
   "metadata": {},
   "outputs": [],
   "source": [
    "# 親単語1が出てくる企業\n",
    "i = p1 in df_s.values\n",
    "if i == True:\n",
    "    parents1 = df_s[df_s[\"word\"] == p1]\n",
    "parents1.set_axis(list(parents1[\"company\"]), inplace=True)"
   ]
  },
  {
   "cell_type": "code",
   "execution_count": 207,
   "id": "0848ebf1",
   "metadata": {},
   "outputs": [],
   "source": [
    "# 親単語2が出てくる企業\n",
    "i = p2 in df_s.values\n",
    "if i == True:\n",
    "    parents2 = df_s[df_s[\"word\"] == p2]\n",
    "parents2.set_axis(list(parents2[\"company\"]), inplace=True)"
   ]
  },
  {
   "cell_type": "code",
   "execution_count": 208,
   "id": "d1112abc",
   "metadata": {
    "scrolled": true
   },
   "outputs": [],
   "source": [
    "parents = set(list(set(parents1[\"company\"]) & set(parents2[\"company\"])))"
   ]
  },
  {
   "cell_type": "code",
   "execution_count": 209,
   "id": "0fa91b82",
   "metadata": {},
   "outputs": [
    {
     "data": {
      "application/vnd.jupyter.widget-view+json": {
       "model_id": "163b4426642d4f33a7f1c2b8ad42473e",
       "version_major": 2,
       "version_minor": 0
      },
      "text/plain": [
       "  0%|          | 0/500 [00:00<?, ?it/s]"
      ]
     },
     "metadata": {},
     "output_type": "display_data"
    }
   ],
   "source": [
    "k1 = 2\n",
    "b1 = 0.75\n",
    "CS = pd.DataFrame()\n",
    "d1 = []\n",
    "for i in tqdm(w_list): # 対象としている子単語\n",
    "    sa = df_mo.set_axis(df_mo[\"word\"]).loc[i, 'sim'] # 子単語のw2vスコア\n",
    "    kids = df_s[df_s[\"word\"] == i] # 子単語が出てくる企業\n",
    "    kids.set_axis(list(kids[\"company\"]), inplace=True)\n",
    "    j = len(list(kids[\"company\"]))\n",
    "    if j == 0:\n",
    "        d1.append(i)\n",
    "        continue\n",
    "    else:\n",
    "        sb = len(parents & set(list(kids[\"company\"]))) / j # sb\n",
    "        fs = (2 * sa * sb) / (sa + sb) # fs\n",
    "        tf = kids[\"count\"] / kids[\"sum\"]\n",
    "        avg_dl = kids[\"sum\"].sum() / len(list(kids[\"sum\"]))\n",
    "        cs = fs * tf * (k1 + 1) / (tf + k1 * (1 - b1 + b1 * tf / avg_dl)) # \n",
    "        CS = pd.concat([CS, cs], axis=1)\n",
    "        CS.rename(columns = {0 : i}, inplace = True)"
   ]
  },
  {
   "cell_type": "markdown",
   "id": "babe3b98",
   "metadata": {},
   "source": [
    "## 保存"
   ]
  },
  {
   "cell_type": "code",
   "execution_count": 210,
   "id": "5447406d",
   "metadata": {},
   "outputs": [],
   "source": [
    "CS.to_csv(\"fasttext_result/\" + p1 + '_and_' + p2 + \".csv\")"
   ]
  },
  {
   "cell_type": "code",
   "execution_count": 211,
   "id": "3b18aa92",
   "metadata": {},
   "outputs": [],
   "source": [
    "CS = CS.sum(axis=1).sort_values(ascending=False)\n",
    "CS.to_csv(\"fasttext_result/\" + p1 + '_and_' + p2 + \"_sum.csv\")"
   ]
  },
  {
   "cell_type": "code",
   "execution_count": null,
   "id": "6d6dd852",
   "metadata": {},
   "outputs": [],
   "source": []
  },
  {
   "cell_type": "markdown",
   "id": "e64c61c3",
   "metadata": {},
   "source": [
    "# or検索(すべて)"
   ]
  },
  {
   "cell_type": "code",
   "execution_count": 212,
   "id": "05591b1d",
   "metadata": {},
   "outputs": [],
   "source": [
    "parents = set(list(set(parents1[\"company\"]) | set(parents2[\"company\"])))"
   ]
  },
  {
   "cell_type": "code",
   "execution_count": 213,
   "id": "e4c8feb0",
   "metadata": {},
   "outputs": [
    {
     "data": {
      "application/vnd.jupyter.widget-view+json": {
       "model_id": "d6299582f9bf46fa8484cfccad6292ab",
       "version_major": 2,
       "version_minor": 0
      },
      "text/plain": [
       "  0%|          | 0/500 [00:00<?, ?it/s]"
      ]
     },
     "metadata": {},
     "output_type": "display_data"
    }
   ],
   "source": [
    "k1 = 2\n",
    "b1 = 0.75\n",
    "CS = pd.DataFrame()\n",
    "d1 = []\n",
    "for i in tqdm(w_list): # 対象としている子単語\n",
    "    sa = df_mo.set_axis(df_mo[\"word\"]).loc[i, 'sim'] # 子単語のw2vスコア\n",
    "    kids = df_s[df_s[\"word\"] == i] # 子単語が出てくる企業\n",
    "    kids.set_axis(list(kids[\"company\"]), inplace=True)\n",
    "    j = len(list(kids[\"company\"]))\n",
    "    if j == 0:\n",
    "        d1.append(i)\n",
    "        continue\n",
    "    else:\n",
    "        sb = len(parents & set(list(kids[\"company\"]))) / j # sb\n",
    "        fs = (2 * sa * sb) / (sa + sb) # fs\n",
    "        tf = kids[\"count\"] / kids[\"sum\"]\n",
    "        avg_dl = kids[\"sum\"].sum() / len(list(kids[\"sum\"]))\n",
    "        cs = fs * tf * (k1 + 1) / (tf + k1 * (1 - b1 + b1 * tf / avg_dl)) # \n",
    "        CS = pd.concat([CS, cs], axis=1)\n",
    "        CS.rename(columns = {0 : i}, inplace = True)"
   ]
  },
  {
   "cell_type": "code",
   "execution_count": 214,
   "id": "1209e5cc",
   "metadata": {},
   "outputs": [],
   "source": [
    "CS.to_csv(\"fasttext_result/\" + p1 + '_or_' + p2 + \".csv\")"
   ]
  },
  {
   "cell_type": "code",
   "execution_count": 215,
   "id": "1875940c",
   "metadata": {},
   "outputs": [],
   "source": [
    "CS = CS.sum(axis=1).sort_values(ascending=False)\n",
    "CS.to_csv(\"fasttext_result/\" + p1 + '_or_' + p2 + \"_sum.csv\")"
   ]
  },
  {
   "cell_type": "code",
   "execution_count": null,
   "id": "46b9640c",
   "metadata": {},
   "outputs": [],
   "source": []
  },
  {
   "cell_type": "code",
   "execution_count": null,
   "id": "532d2019",
   "metadata": {},
   "outputs": [],
   "source": []
  }
 ],
 "metadata": {
  "kernelspec": {
   "display_name": "Python 3 (ipykernel)",
   "language": "python",
   "name": "python3"
  },
  "language_info": {
   "codemirror_mode": {
    "name": "ipython",
    "version": 3
   },
   "file_extension": ".py",
   "mimetype": "text/x-python",
   "name": "python",
   "nbconvert_exporter": "python",
   "pygments_lexer": "ipython3",
   "version": "3.9.12"
  },
  "toc-autonumbering": true
 },
 "nbformat": 4,
 "nbformat_minor": 5
}
